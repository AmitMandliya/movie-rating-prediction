{
 "cells": [
  {
   "cell_type": "code",
   "execution_count": 7,
   "metadata": {
    "scrolled": false
   },
   "outputs": [
    {
     "name": "stdout",
     "output_type": "stream",
     "text": [
      "Requirement already satisfied: omdb in c:\\programdata\\anaconda3\\lib\\site-packages (0.10.1)\n",
      "Requirement already satisfied: requests>=2.0.1 in c:\\programdata\\anaconda3\\lib\\site-packages (from omdb) (2.22.0)\n",
      "Requirement already satisfied: certifi>=2017.4.17 in c:\\programdata\\anaconda3\\lib\\site-packages (from requests>=2.0.1->omdb) (2019.9.11)\n",
      "Requirement already satisfied: idna<2.9,>=2.5 in c:\\programdata\\anaconda3\\lib\\site-packages (from requests>=2.0.1->omdb) (2.8)\n",
      "Requirement already satisfied: urllib3!=1.25.0,!=1.25.1,<1.26,>=1.21.1 in c:\\programdata\\anaconda3\\lib\\site-packages (from requests>=2.0.1->omdb) (1.24.2)\n",
      "Requirement already satisfied: chardet<3.1.0,>=3.0.2 in c:\\programdata\\anaconda3\\lib\\site-packages (from requests>=2.0.1->omdb) (3.0.4)\n"
     ]
    }
   ],
   "source": [
    "!pip install omdb\n",
    "from omdb import OMDBClient\n",
    "import pandas as pd\n",
    "import json\n",
    "import numpy as np\n",
    "import re\n",
    "\n",
    "class ObtainData: \n",
    "    # Below initialize method needs two inputs - one is the path to the movie title file and other is the key for accessing OMDB data\n",
    "    def __init__(self,ipMovieTitlePath,omdbKey,opMovieDetailsPath):\n",
    "        # Get the movie titles from the movie_titles.csv file \n",
    "        # This file is downloaded from https://www.kaggle.com/netflix-inc/netflix-prize-data#movie_titles.csv\n",
    "        # File contains the titles of movies and years. We will later use the movie titles extracted from this file to fetch movie information.\n",
    "        global dfMovieList, omdbClient, opPath\n",
    "        dfMovieList = pd.read_csv(ipMovieTitlePath,header=None,names=['MovieID','ReleaseYear','MovieTitle'],encoding='latin-1')\n",
    "        defaultYear = 2000\n",
    "        dfMovieList['ReleaseYear'] = dfMovieList['ReleaseYear'].fillna(defaultYear)\n",
    "        # Create a client of OMDB API\n",
    "        omdbClient = OMDBClient(apikey=omdbKey)\n",
    "        opPath = opMovieDetailsPath\n",
    "    \n",
    "    # This method will fetch the data from the OMDB database and store it in opPath in csv format. This has to run just once.\n",
    "    def fetchData(self):\n",
    "        # dfOMDBdata wil hold all the data extracted from omdb. It will keep appending new row each time a new data is fetched\n",
    "        global dfOMDBdata\n",
    "        # columnRenamingDict will be used to rename the output dataframe, so as to not rely on the column names provided by data obtained from OMDB API\n",
    "        columnRenamingDict = {'NeflixMovieTitle':'NeflixMovieTitle','NeflixMovieID':'NeflixMovieID','NetflixReleaseYear':'NetflixReleaseYear','awards':'Awards','actors':'Actors','box_office':'Box_Office','country':'Country','director':'Director','dvd':'DVD','genre':'Genre','imdb_id':'IMDBId','imdb_rating':'IMDBRating','imdb_votes':'IMDBVotes','language':'Language','metascore':'Metascore','plot':'Plot','poster':'Poster','production':'Production','rated':'Rated','ratings':'Ratings','released':'Released','response':'Response','runtime':'Runtime','title':'OMDBTitle','tomato_consensus':'TomatoConsensus','tomato_fresh':'TomatoFresh','tomato_image':'TomatoImage','tomato_meter':'TomatoMeter','tomato_rating':'TomatoRating','tomato_reviews':'TomatoReviews','tomato_rotten':'TomatoRotten','tomato_url':'TomatoUrl','tomato_user_meter':'TomatoUserMeter','tomato_user_rating':'TomatoUserRating','tomato_user_reviews':'TomatoUserReviews','total_seasons':'TotalSeasons','type':'Type','website':'Website','writer':'Writer','year':'Year'}\n",
    "        dfOMDBdata = pd.DataFrame()\n",
    "        for index,row in dfMovieList.iterrows():\n",
    "            # If the apikey has restriction of per day data fetch. Then uncomment the below if condition.\n",
    "            #if(index < 1000):\n",
    "                print('Fecthing movie data.... count = '+str(index))                \n",
    "                movieDetails = omdbClient.get(title=row['MovieTitle'],year=int(row['ReleaseYear']),fullplot=True,tomatoes=True)\n",
    "                jsonObject = json.dumps(movieDetails)\n",
    "                dfCurrMovie = pd.read_json(jsonObject)\n",
    "                dfCurrMovie['NeflixMovieTitle'] = row['MovieTitle']\n",
    "                dfCurrMovie['NeflixMovieID'] = row['MovieID']\n",
    "                dfCurrMovie['NetflixReleaseYear'] = row['ReleaseYear']\n",
    "                dfOMDBdata = dfOMDBdata.append(dfCurrMovie,ignore_index=True)               \n",
    "        dfOMDBdata = dfOMDBdata.rename(columns=columnRenamingDict)\n",
    "        dfOMDBdata.to_csv(opPath,index=False)\n",
    "    \n",
    "    # Use below method to obtain the data from the csv file which contains all the movie related data obtained from OMDB \n",
    "    def getDataFromCSV(self):\n",
    "        global dfOMDBdata\n",
    "        dfOMDBdata = pd.read_csv(opMovieDetailsPath,error_bad_lines = False)\n",
    "        #dfOMDBdata = dfOMDBdata.rename(columns=columnRenamingDict)\n",
    "        \n",
    "\n",
    "    \n",
    "    def preprocessData(self):\n",
    "        # Drop the columns which are not needed.\n",
    "        self.getDataFromCSV()\n",
    "        dropColumns = ['NeflixMovieID','NeflixMovieTitle','NetflixReleaseYear','Box_Office','TomatoConsensus','TomatoFresh','TomatoImage','TomatoMeter','TomatoRating','TomatoReviews','TomatoRotten','TomatoUrl','TomatoUserMeter','TomatoUserRating','TomatoUserReviews','Response','Website','Plot','Poster','IMDBId']\n",
    "        dfOMDBdata.drop(dropColumns, axis = 1, inplace = True)\n",
    "        #dfOMDBdata.drop(dfOMDBdata.index[150:], inplace=True)\n",
    "\n",
    "        # Preprocess individual columns     \n",
    "        for idx,row in dfOMDBdata.iterrows():\n",
    "            YearArray = re.split('–|-',dfOMDBdata.loc[idx,'Year'])\n",
    "            # Split the Year for series type as StartYear and EndYear\n",
    "            if(dfOMDBdata.loc[idx,'Type'] == \"series\"):\n",
    "                dfOMDBdata.loc[idx,'Year'] = YearArray[0]\n",
    "                dfOMDBdata.loc[idx,'StartYear'] = YearArray[0]\n",
    "                if(len(YearArray) == 2 and YearArray[1] != \"\"):\n",
    "                    dfOMDBdata.loc[idx,'EndYear'] = YearArray[1]\n",
    "                else:\n",
    "                    dfOMDBdata.loc[idx,'EndYear'] = YearArray[0]\n",
    "                    \n",
    "                if(dfOMDBdata.loc[idx,'TotalSeasons'] == np.nan):\n",
    "                    dfOMDBdata.loc[idx,'TotalSeasons'] = 1\n",
    "            # For movies Year, StartYear and EndYear remains the same\n",
    "            else:\n",
    "                dfOMDBdata.loc[idx,'Year'] = YearArray[0]\n",
    "                dfOMDBdata.loc[idx,'StartYear'] = YearArray[0]\n",
    "                dfOMDBdata.loc[idx,'EndYear'] = YearArray[0]\n",
    "        #dummies = dfOMDBdata['Actors'].str.get_dummies(\",\")\n",
    "        #print(dummies.columns)\n",
    "        dfOMDBdata.to_csv('movieDetailsPreprocessed.csv',index=False)\n",
    "        \n",
    "ipMovieTitlePath = 'movie_titles.csv'\n",
    "apikey = '3ed5bc9c'\n",
    "opMovieDetailsPath = 'movie_details.csv'\n",
    "dataObj = ObtainData(ipMovieTitlePath,apikey,opMovieDetailsPath)\n",
    "# Below line of code is commented. It can be run initially to get the csv output from OMDB. We have already extracted the data and kept as opMovieDetailsPath.\n",
    "#dataObj.fetchData()\n",
    "dataObj.preprocessData()\n"
   ]
  },
  {
   "cell_type": "code",
   "execution_count": null,
   "metadata": {},
   "outputs": [],
   "source": []
  },
  {
   "cell_type": "code",
   "execution_count": null,
   "metadata": {},
   "outputs": [],
   "source": []
  }
 ],
 "metadata": {
  "kernelspec": {
   "display_name": "Python 3",
   "language": "python",
   "name": "python3"
  },
  "language_info": {
   "codemirror_mode": {
    "name": "ipython",
    "version": 3
   },
   "file_extension": ".py",
   "mimetype": "text/x-python",
   "name": "python",
   "nbconvert_exporter": "python",
   "pygments_lexer": "ipython3",
   "version": "3.7.4"
  }
 },
 "nbformat": 4,
 "nbformat_minor": 2
}
